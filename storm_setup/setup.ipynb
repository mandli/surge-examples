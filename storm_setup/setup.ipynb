{
 "cells": [
  {
   "cell_type": "markdown",
   "metadata": {},
   "source": [
    "<h1><center>Storm Surge Detailing Set Up</center></h1>"
   ]
  },
  {
   "cell_type": "markdown",
   "metadata": {},
   "source": [
    "<h4><center>Jinpai (Max) Zhao</center></h4>"
   ]
  },
  {
   "cell_type": "markdown",
   "metadata": {},
   "source": [
    "<hr style=\"border:0.5px solid gray\">\n",
    "<hr style=\"border:0.5px solid gray\">"
   ]
  },
  {
   "cell_type": "markdown",
   "metadata": {},
   "source": [
    "## Step 0: Validation Study"
   ]
  },
  {
   "cell_type": "markdown",
   "metadata": {},
   "source": [
    "#### What is validation study?\n",
    "    \n",
    "Generally speaking, validation study is to compare the result by a measure or method to which by a standard or accurate model. In our case, we are comparing the GeoClaw simulated storm surge result to actual observed meteorological statistics."
   ]
  },
  {
   "cell_type": "markdown",
   "metadata": {},
   "source": [
    "#### Why is validation study important?\n",
    "        \n",
    "As a powerful software, GeoClaw aims to reconstruct natural disasters as precise as possible. With more examples from validation study, we can better identify and analyze discrepancy between simulated and observed data. Therefore, improvements can be made upon GeoClaw software. On the other hand, for unpredictable or unquantifiable problems, we are able to conclude which kinds of storms will be well-simulated by GeoClaw and which won't. "
   ]
  },
  {
   "cell_type": "markdown",
   "metadata": {},
   "source": [
    "<hr style=\"border:1.5px solid gray\">"
   ]
  },
  {
   "cell_type": "markdown",
   "metadata": {},
   "source": [
    "## Step 1: Setup Files and Directory"
   ]
  },
  {
   "cell_type": "markdown",
   "metadata": {},
   "source": [
    "To get started with a storm surge computation it is best to refer to a previous working example. For example, if you have successfully installed Clawpack, you might start with `$ CLAW/geoclaw/examples/storm-surge/ike`. If you have not yet set up environment variable `CLAW`, please refer to this page: [Setting Environment Variable](http://www.clawpack.org/setenv.html). There are also a number of additional examples in the `$ CLAW/geoclaw/examples/storm-surge` directory as well as some in the `$ CLAW/apps/surge-examples directory`. \n",
    "\n",
    "The primary input that one needs to provide for a new example usually involves two data source: \n",
    "\n",
    "- Topography data: Data that specifies the topography and bathymetry of the region around the area of interest. For storm surge computations, it is generally good practice to include entire oceanic basins so that you can ensure that flow into and out of the basin is resolved by the computation and is sufficiently distant from the computational domain’s boundaries.\n",
    "\n",
    "- Storm data: We also need to specify the particular storm that you are interested in. Storm specification data described and parametrized a storm which will be read in by GeoClaw. \n",
    "\n",
    "In this tutorial, we will concentrate on changing the Hurricane Ike (2018) example into one for Hurricane Elsa (2021).\n",
    "\n",
    "First copy the files (setrun.py, setplot.py, makefile) located in the Hurricane Ike directorty located at `$ CLAW/geoclaw/examples/storm-surge/ike`. Then make a folder at your desired location with those three files included. Here I named this folder `elsa`.\n",
    "<div>\n",
    "<img src=\"pic1.png\" width=\"800\"/>\n",
    "</div>"
   ]
  },
  {
   "cell_type": "markdown",
   "metadata": {},
   "source": [
    "<hr style=\"border:1.5px solid gray\">"
   ]
  },
  {
   "cell_type": "markdown",
   "metadata": {},
   "source": [
    "## Step 2: Find Topography/Bathymetry Data"
   ]
  },
  {
   "cell_type": "markdown",
   "metadata": {},
   "source": [
    "Before changing anything, we must know some information of the hurricane we are studying. One of the best way to do this is to go through the hurricane report written by the National Hurricane Center. For hurricane Elsa, this file locates [here](https://www.nhc.noaa.gov/data/tcr/AL052021_Elsa.pdf). In this report, we know the path of Elsa, strength along the path, specific landfall time, reading at different gauges, how it's affecting coastal communities, and so on. \n",
    "\n",
    "With the path of Elsa in our head, let’s find some better topography for Elsa which is the west coast Florida region. There are several places where we can get topography/bathymetry data, for example [Global Multi-Resolution Topography Data Synthesis](https://www.gmrt.org/index.php), [Global Digital Elevation Model](https://www.jspacesystems.or.jp/ersdac/GDEM/E/1.html), [National Center for Environmental Information](https://www.ngdc.noaa.gov/mgg/bathymetry/relief.html), and [The General Bathymetry Chart of the Oceans](https://www.gebco.net/data_and_products/gridded_bathymetry_data/). Here we will use the data from the last one which is the GEBCO to retrive and download the topography and bathymetry data for hurricane Elsa. \n",
    "<div>\n",
    "<img src=\"pic2.png\" width=\"800\"/>\n",
    "</div>\n",
    "\n",
    "Theoretically, we can select the region as big as possible. However, the bigger the region, the more computationally complex it will be for GeoClaw simulation. So for hurricane Elsa, we only use the gulf of Mexico region so that it can include the region days before Elsa's landfall and the region days after the landfall. (How to specify how many days before and after will be discussed in later steps below.) After downloading the Esri ASCII + Grid format of the topography data, we may want to store it on cloud like google drive, dropbox, or your personal website so that people running your example in the future can have access to this topography data file."
   ]
  },
  {
   "cell_type": "markdown",
   "metadata": {},
   "source": [
    "<hr style=\"border:1.5px solid gray\">"
   ]
  },
  {
   "cell_type": "markdown",
   "metadata": {},
   "source": [
    "## Step 3: Find Storm Specific Data"
   ]
  },
  {
   "cell_type": "markdown",
   "metadata": {},
   "source": [
    "Now let’s find a storm specification for Hurricane Elsa. Several data resouces are available: [Automated Tropical Cyclone Forecasting System](https://ftp.nhc.noaa.gov/atcf/archive/), [Atlantic Oceanographic and Meteorological Laboratory](https://www.aoml.noaa.gov/hrd/hurdat/Data_Storm.html), [NOAA Rapid Update Cycle](https://ruc.noaa.gov/tracks/), [National Center for Environmental Information](http://www.ncdc.noaa.gov/ibtracs/), [Naval Meteorology and Oceanography Command](https://www.metoc.navy.mil/jtwc/jtwc.html?best-tracks), [Coastal Hazards System](https://chs.erdc.dren.mil). In this example we will use the ATCF database. For Hurricane Elsa this ends up being the file located [here](http://ftp.nhc.noaa.gov/atcf/archive/2021/bal052021.dat.gz).\n",
    "\n",
    "How to find a storm specific data using ATCF database for your storm? Go to ATCF Archive. \n",
    "<div>\n",
    "<img src=\"pic3.png\" width=\"300\"/>\n",
    "</div>\n",
    "\n",
    "Find and go to the archive the year when you storm happened\n",
    "<div>\n",
    "<img src=\"pic4.png\" width=\"300\"/>\n",
    "</div>\n",
    "\n",
    "Then search for you storm number. In this example, storm number for Hurricane Elsa is AL052021. \n",
    "<div>\n",
    "<img src=\"pic5.png\" width=\"300\"/>\n",
    "</div>\n",
    "\n",
    "Therefore, the storm data corresponds to Hurricane Elsa will simply be bal052021.dat in year 2021."
   ]
  },
  {
   "cell_type": "markdown",
   "metadata": {},
   "source": [
    "<hr style=\"border:1.5px solid gray\">"
   ]
  },
  {
   "cell_type": "markdown",
   "metadata": {},
   "source": [
    "## Step 4: Modify `setrun.py`"
   ]
  },
  {
   "cell_type": "markdown",
   "metadata": {},
   "source": [
    "Now we have our topography data and storm specific data ready. Next, we need to modify the `setrun.py` to use our new storm specific data and topography data we just added. First, modify the computational domain so that it matches or contains in the region of the topography data:"
   ]
  },
  {
   "cell_type": "markdown",
   "metadata": {},
   "source": [
    "```\n",
    "# Lower and upper edge of computational domain for hurricane elsa:\n",
    "    clawdata.lower[0] = -95.0      # longitude: west limit\n",
    "    clawdata.upper[0] = -70.0      # longitude: east limit\n",
    "\n",
    "    clawdata.lower[1] = 12.0       # latitude: south limit\n",
    "    clawdata.upper[1] = 32.0       # latitude: north limit\n",
    "```"
   ]
  },
  {
   "cell_type": "markdown",
   "metadata": {},
   "source": [
    "Then change `t0`, `tfinal`, and `time_offset` to Elsa's landfall time and time period before and after landfall we want to simulate:"
   ]
  },
  {
   "cell_type": "markdown",
   "metadata": {},
   "source": [
    "```\n",
    "...\n",
    "# -------------\n",
    "# Initial time:\n",
    "# -------------\n",
    "clawdata.t0 = -days2seconds(2)\n",
    "...\n",
    "# -------------\n",
    "# End time:\n",
    "# -------------\n",
    "clawdata.tfinal = days2seconds(1)\n",
    "...\n",
    "# -------------\n",
    "# Landfall time:\n",
    "# -------------\n",
    "elsa.time_offset = datetime.datetime(2021, 7, 7, 14)\n",
    "...\n",
    "\n",
    "```"
   ]
  },
  {
   "cell_type": "markdown",
   "metadata": {},
   "source": [
    "Last but not least, change locations of retrieving topography and storm data file in topography data and surge data sections:"
   ]
  },
  {
   "cell_type": "markdown",
   "metadata": {},
   "source": [
    "```\n",
    "...\n",
    "# Fetch topography data\n",
    "clawutil.data.get_remote_file(\n",
    "           \"ULR_for_topography_data\")\n",
    "...\n",
    "# Fetch storm specification data\n",
    "clawutil.data.get_remote_file(\n",
    "           \"URL_for_storm_specification_data\")\n",
    "...\n",
    "```"
   ]
  },
  {
   "cell_type": "markdown",
   "metadata": {},
   "source": [
    "<hr style=\"border:1.5px solid gray\">"
   ]
  },
  {
   "cell_type": "markdown",
   "metadata": {},
   "source": [
    "## Step 5: Modify `setplot.py`"
   ]
  },
  {
   "cell_type": "markdown",
   "metadata": {},
   "source": [
    "We also need to modify the plotting in `setplot.py`. First, we may want to change upper and lower limits for surface levels, wind speeds, pressure, and friction to best represent our storm. For example, Elsa is a category 1 hurricane which is not very strong. Therefore, we changed the surface levels to `[-1, 1]` so that visualization from plots will be more evident. "
   ]
  },
  {
   "cell_type": "markdown",
   "metadata": {},
   "source": [
    "```\n",
    "# User can modify these to best visualization for your storm\n",
    "surface_limits = [-1.0, 1.0]\n",
    "speed_limits = [0.0, 3.0]\n",
    "wind_limits = [0, 64]\n",
    "pressure_limits = [935, 1013]\n",
    "friction_bounds = [0.01, 0.04]\n",
    "```"
   ]
  },
  {
   "cell_type": "markdown",
   "metadata": {},
   "source": [
    "In the plot specifications section, we can add zoom-in regions. For Elsa, three more regions other than the computational domain are added. The reason for adding more zoom in regions could be:\n",
    "1. To better visualize what will happen in the zoom-in area when the storm passes by, verifying if it's similar to the description in hurricane report.\n",
    "2. To see what will happen around gauges we set, testing if the behavior of gauge plots are consistent with GeoClaw simulation. \n",
    "\n",
    "We may also alter the legends, labels, colors of plots, and so on in `setplot.py`. "
   ]
  },
  {
   "cell_type": "markdown",
   "metadata": {},
   "source": [
    "```\n",
    "# ==========================================================================\n",
    "#   Plot specifications\n",
    "# ==========================================================================\n",
    "regions = {\"Gulf\": {\"xlimits\": (clawdata.lower[0], clawdata.upper[0]),\n",
    "                    \"ylimits\": (clawdata.lower[1], clawdata.upper[1]),\n",
    "                    \"figsize\": (6.4, 4.8)},\n",
    "           \"Cedar Key\": {\"xlimits\": (-84, -82.5),\n",
    "                           \"ylimits\": (28, 30.5),\n",
    "                           \"figsize\": (2.5, 4)},\n",
    "            \"Apalachee Bay\": {\"xlimits\": (-84.47, -82.38),\n",
    "                           \"ylimits\": (29.4,30.17),\n",
    "                           \"figsize\": (4.5, 2.5)},\n",
    "            \"Tampa Bay\": {\"xlimits\": (-82.89, -82.38),\n",
    "                           \"ylimits\": (27.49, 28.04),\n",
    "                           \"figsize\": (3, 3.5)}}\n",
    "```"
   ]
  },
  {
   "cell_type": "markdown",
   "metadata": {},
   "source": [
    "For the figure sizes, you might want to approximate the ratio between the length and width of the zoom-in regions selected. Inappropriate ratios may result in bad visualizations and hence unrecognizable regions.  "
   ]
  },
  {
   "cell_type": "markdown",
   "metadata": {},
   "source": [
    "<hr style=\"border:1.5px solid gray\">"
   ]
  },
  {
   "cell_type": "markdown",
   "metadata": {},
   "source": [
    "## Step 6: Add Gauges for Validation"
   ]
  },
  {
   "cell_type": "markdown",
   "metadata": {},
   "source": [
    "Gauges are key for validation study. We want to know how good GeoClaw's simulations are comparing to observed currents and tides data. \n",
    "\n",
    "Gauge information and location can be found here at [NOAA Tides & Currents](https://tidesandcurrents.noaa.gov).  \n",
    "<div>\n",
    "<img src=\"pic6.png\" width=\"800\"/>\n",
    "</div>"
   ]
  },
  {
   "cell_type": "markdown",
   "metadata": {},
   "source": [
    "Choose the gauges that are along the path of the hurricane on the map. For example, here I choose to add gauge at Clearwater Beach, west Florida for hurricane Elsa."
   ]
  },
  {
   "cell_type": "markdown",
   "metadata": {},
   "source": [
    "<div>\n",
    "<img src=\"pic7.png\" width=\"800\"/>\n",
    "</div>"
   ]
  },
  {
   "cell_type": "markdown",
   "metadata": {},
   "source": [
    "At the station's home page, we can see all kinds of data for this gauge. One thing really important is the station ID, because we will use this in `setplot.py` to fetch observed surge data. "
   ]
  },
  {
   "cell_type": "markdown",
   "metadata": {},
   "source": [
    "<div>\n",
    "<img src=\"pic8.png\" width=\"800\"/>\n",
    "</div>"
   ]
  },
  {
   "cell_type": "markdown",
   "metadata": {},
   "source": [
    "After finalizing all the gauges you want to add, it's time to modify `setrun.py` and `setplot.py` accordingly, so that the program will plot the observed data along with the simulation data for those gauges you have selected. \n",
    "\n",
    "In `setrun.py`, change the gauges to your selection. Here for example, `1` means this is the first gauge added, and `-82.93, 27.98` is the exact location of the gauge at Clearwater Beach. "
   ]
  },
  {
   "cell_type": "markdown",
   "metadata": {},
   "source": [
    "```\n",
    "rundata.gaugedata.gauges.append([1, -82.93, 27.98,\n",
    "                                 rundata.clawdata.t0,\n",
    "                                 rundata.clawdata.tfinal])   # CWBF1 Clearwater Beach, ID: 8726724\n",
    "... (more gauges)\n",
    "```"
   ]
  },
  {
   "cell_type": "markdown",
   "metadata": {},
   "source": [
    "In `setplot.py`, modify the dictionary containing stations IDs and `gauge_afteraxes(cd)` method:"
   ]
  },
  {
   "cell_type": "markdown",
   "metadata": {},
   "source": [
    "```\n",
    "my_dict = {1: '8726724', .... add_more_gauegs}\n",
    "def gauge_afteraxes(cd): \n",
    "    t0 = datetime.datetime(2021, 7, 5, 14)         # simulation start time\n",
    "    t_offset = datetime.datetime(2021, 7, 7, 14)   # landfall\n",
    "    tf = datetime.datetime(2021, 7, 8, 14)         # simulation end time\n",
    "```"
   ]
  },
  {
   "cell_type": "markdown",
   "metadata": {},
   "source": [
    "Also in `setplot.py`, change the region for the gauge location plot so that we can visualize where our gauges are on the map."
   ]
  },
  {
   "cell_type": "markdown",
   "metadata": {},
   "source": [
    "```\n",
    "plotaxes = plotfigure.new_plotaxes()\n",
    "plotaxes.title = 'Gauge Locations'\n",
    "plotaxes.scaled = True\n",
    "plotaxes.xlimits = [-90, -80]       # West and East limits\n",
    "plotaxes.ylimits = [23.0, 31.0]     # South and North limits\n",
    "\n",
    "```"
   ]
  },
  {
   "cell_type": "markdown",
   "metadata": {},
   "source": [
    "<div>\n",
    "<img src=\"pic9.png\" width=\"500\"/>\n",
    "</div>"
   ]
  },
  {
   "cell_type": "markdown",
   "metadata": {},
   "source": [
    "<hr style=\"border:1.5px solid gray\">"
   ]
  },
  {
   "cell_type": "markdown",
   "metadata": {},
   "source": [
    "## Step 7: Setup [AMRClaw Algorithm](https://www.clawpack.org/amrclaw.html)"
   ]
  },
  {
   "cell_type": "markdown",
   "metadata": {},
   "source": [
    "Sometimes, plots will not look correct even though we inputed the exactly precise locations of gauges. One highly possible reason for that is our region is not resolved enough. Consequently, GeoClaw might recognize topography of locations wrongly. To solve this problem, we will use the AMRClaw algorithm to furthur refine regions. \n",
    "\n",
    "To elaborate, let's take Tampa Bay as an example. "
   ]
  },
  {
   "cell_type": "markdown",
   "metadata": {},
   "source": [
    "This is the Tampa Bay region when no refinement is added:\n",
    "<div>\n",
    "<img src=\"pic10.png\" width=\"400\"/>\n",
    "</div>"
   ]
  },
  {
   "cell_type": "markdown",
   "metadata": {},
   "source": [
    "But this is the Tampa Bay region when `minimum refinement level of 5`, `maximum refinement level of 6`, `refinement_ratios = [2, 2, 2, 3, 4, 4]` is added:\n",
    "<div>\n",
    "<img src=\"pic11.png\" width=\"400\"/>\n",
    "</div>"
   ]
  },
  {
   "cell_type": "markdown",
   "metadata": {},
   "source": [
    "It is very obvious that if we don't add refinement levels to this region, no gauges inside Tampa Bay can be recognized correctly since the program will assume they are on ''land''. "
   ]
  },
  {
   "cell_type": "markdown",
   "metadata": {},
   "source": [
    "To add specific regions to refine, simply add lines to `setrun.py` like these:"
   ]
  },
  {
   "cell_type": "markdown",
   "metadata": {},
   "source": [
    "```\n",
    "regions = rundata.regiondata.regions\n",
    "regions.append([3, 5, clawdata.t0, clawdata.tfinal, -84, -82.5, 28, 30.5]) # Zoom-in Cedar Key\n",
    "regions.append([3, 5, clawdata.t0, clawdata.tfinal, -84.47, -82.38, 29.4,30.17]) # Zoom-in Apalachee Bay\n",
    "regions.append([5, 6, clawdata.t0, clawdata.tfinal, -82.89, -82.38, 27.49, 28.04]) # Zoom-in Tampa Bay\n",
    "... (add more zoom-in regions)\n",
    "\n",
    "```"
   ]
  },
  {
   "cell_type": "markdown",
   "metadata": {},
   "source": [
    "Also, add refinement regions around gauges you select if necessary (some gauge may be in open water which we don't need to worry about, but some may be in narrow waterways that could not be recognized without a good refinement)."
   ]
  },
  {
   "cell_type": "markdown",
   "metadata": {},
   "source": [
    "```\n",
    "regions.append([4, 5, clawdata.t0, clawdata.tfinal, -83.1, -82.7, 27.85, 28.15]) # Clearwater Beach\n",
    "... (add more regions of gauges)\n",
    "\n",
    "```"
   ]
  },
  {
   "cell_type": "markdown",
   "metadata": {},
   "source": [
    "<hr style=\"border:1.5px solid gray\">"
   ]
  },
  {
   "cell_type": "markdown",
   "metadata": {},
   "source": [
    "## Step 8: Execute Program"
   ]
  },
  {
   "cell_type": "markdown",
   "metadata": {},
   "source": [
    "Finally we are ready to run the simulation. Make sure all files (setrun.py, setplot.py, makefile) are in the correct directory, then \n",
    "\n",
    "```\n",
    "$ cd DirectoryPath\n",
    "```\n",
    "\n",
    "to the working directory. For this example, as set up by Step 1, it will be \n",
    "\n",
    "```\n",
    "$ cd elsa\n",
    "```\n",
    "\n",
    "In that working directory, we can either use \n",
    "```\n",
    "$ make all \n",
    "\n",
    "$ make .plots \n",
    "```\n",
    "to execute. \n",
    "\n",
    "If errors are encountered, we can follow the sequence of \n",
    "```\n",
    "$ make .exe\n",
    "\n",
    "$ make .data\n",
    "\n",
    "$ make .output\n",
    "\n",
    "$ make .plots\n",
    "```\n",
    "to debug. To eliminate all executable files and restart, we can use \n",
    "```\n",
    "$ make clean\n",
    "```\n",
    "\n",
    "Once the simulation runs successfully, we can see the result at `DirectoryPath/_plots/_PlotIndex.html`.\n",
    "<div>\n",
    "<img src=\"pic12.png\" width=\"600\"/>\n",
    "</div>"
   ]
  },
  {
   "cell_type": "markdown",
   "metadata": {},
   "source": [
    "<h4><center>Contact: jz3445@columbia.edu</center></h4>"
   ]
  }
 ],
 "metadata": {
  "kernelspec": {
   "display_name": "Python 3 (ipykernel)",
   "language": "python",
   "name": "python3"
  },
  "language_info": {
   "codemirror_mode": {
    "name": "ipython",
    "version": 3
   },
   "file_extension": ".py",
   "mimetype": "text/x-python",
   "name": "python",
   "nbconvert_exporter": "python",
   "pygments_lexer": "ipython3",
   "version": "3.10.5"
  }
 },
 "nbformat": 4,
 "nbformat_minor": 2
}
